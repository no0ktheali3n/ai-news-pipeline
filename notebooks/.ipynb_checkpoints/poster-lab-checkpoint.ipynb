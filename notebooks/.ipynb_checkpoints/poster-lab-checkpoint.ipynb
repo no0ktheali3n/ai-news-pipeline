{
 "cells": [
  {
   "cell_type": "code",
   "execution_count": 1,
   "id": "669e26d6-e632-4784-a284-e69d0f9f613f",
   "metadata": {},
   "outputs": [
    {
     "ename": "FileNotFoundError",
     "evalue": "[Errno 2] No such file or directory: 'summarized_output.json'",
     "output_type": "error",
     "traceback": [
      "\u001b[31m---------------------------------------------------------------------------\u001b[39m",
      "\u001b[31mFileNotFoundError\u001b[39m                         Traceback (most recent call last)",
      "\u001b[36mCell\u001b[39m\u001b[36m \u001b[39m\u001b[32mIn[1]\u001b[39m\u001b[32m, line 10\u001b[39m\n\u001b[32m      7\u001b[39m \u001b[38;5;28;01mimport\u001b[39;00m\u001b[38;5;250m \u001b[39m\u001b[34;01mtextwrap\u001b[39;00m\n\u001b[32m      9\u001b[39m \u001b[38;5;66;03m# Load summarized articles\u001b[39;00m\n\u001b[32m---> \u001b[39m\u001b[32m10\u001b[39m \u001b[38;5;28;01mwith\u001b[39;00m \u001b[38;5;28;43mopen\u001b[39;49m\u001b[43m(\u001b[49m\u001b[33;43m\"\u001b[39;49m\u001b[33;43msummarized_output.json\u001b[39;49m\u001b[33;43m\"\u001b[39;49m\u001b[43m,\u001b[49m\u001b[43m \u001b[49m\u001b[33;43m\"\u001b[39;49m\u001b[33;43mr\u001b[39;49m\u001b[33;43m\"\u001b[39;49m\u001b[43m,\u001b[49m\u001b[43m \u001b[49m\u001b[43mencoding\u001b[49m\u001b[43m=\u001b[49m\u001b[33;43m\"\u001b[39;49m\u001b[33;43mutf-8\u001b[39;49m\u001b[33;43m\"\u001b[39;49m\u001b[43m)\u001b[49m \u001b[38;5;28;01mas\u001b[39;00m f:\n\u001b[32m     11\u001b[39m     articles = json.load(f)\n\u001b[32m     13\u001b[39m \u001b[38;5;66;03m# Twitter formatting constraints\u001b[39;00m\n",
      "\u001b[36mFile \u001b[39m\u001b[32m~\\Desktop\\github projects\\scraper-alpha\\venv\\Lib\\site-packages\\IPython\\core\\interactiveshell.py:326\u001b[39m, in \u001b[36m_modified_open\u001b[39m\u001b[34m(file, *args, **kwargs)\u001b[39m\n\u001b[32m    319\u001b[39m \u001b[38;5;28;01mif\u001b[39;00m file \u001b[38;5;129;01min\u001b[39;00m {\u001b[32m0\u001b[39m, \u001b[32m1\u001b[39m, \u001b[32m2\u001b[39m}:\n\u001b[32m    320\u001b[39m     \u001b[38;5;28;01mraise\u001b[39;00m \u001b[38;5;167;01mValueError\u001b[39;00m(\n\u001b[32m    321\u001b[39m         \u001b[33mf\u001b[39m\u001b[33m\"\u001b[39m\u001b[33mIPython won\u001b[39m\u001b[33m'\u001b[39m\u001b[33mt let you open fd=\u001b[39m\u001b[38;5;132;01m{\u001b[39;00mfile\u001b[38;5;132;01m}\u001b[39;00m\u001b[33m by default \u001b[39m\u001b[33m\"\u001b[39m\n\u001b[32m    322\u001b[39m         \u001b[33m\"\u001b[39m\u001b[33mas it is likely to crash IPython. If you know what you are doing, \u001b[39m\u001b[33m\"\u001b[39m\n\u001b[32m    323\u001b[39m         \u001b[33m\"\u001b[39m\u001b[33myou can use builtins\u001b[39m\u001b[33m'\u001b[39m\u001b[33m open.\u001b[39m\u001b[33m\"\u001b[39m\n\u001b[32m    324\u001b[39m     )\n\u001b[32m--> \u001b[39m\u001b[32m326\u001b[39m \u001b[38;5;28;01mreturn\u001b[39;00m \u001b[43mio_open\u001b[49m\u001b[43m(\u001b[49m\u001b[43mfile\u001b[49m\u001b[43m,\u001b[49m\u001b[43m \u001b[49m\u001b[43m*\u001b[49m\u001b[43margs\u001b[49m\u001b[43m,\u001b[49m\u001b[43m \u001b[49m\u001b[43m*\u001b[49m\u001b[43m*\u001b[49m\u001b[43mkwargs\u001b[49m\u001b[43m)\u001b[49m\n",
      "\u001b[31mFileNotFoundError\u001b[39m: [Errno 2] No such file or directory: 'summarized_output.json'"
     ]
    }
   ],
   "source": [
    "# poster-preview.ipynb (Tweet formatter notebook with Claude + static + dynamic hashtags)\n",
    "\n",
    "import json\n",
    "import os\n",
    "import textwrap\n",
    "\n",
    "# Paths and default constants\n",
    "PROJECT_ROOT = os.path.abspath(os.path.join(os.path.dirname(\"__file__\"), '..'))\n",
    "SUMMARY_PATH = os.path.join(PROJECT_ROOT, \"summarized_output.json\")\n",
    "DEFAULT_HASHTAGS = [\"#AI\"]  # Always include this for visibility\n",
    "MAX_TWEET_LENGTH = 280\n",
    "\n",
    "# Load summarized data\n",
    "try:\n",
    "    with open(SUMMARY_PATH, \"r\", encoding=\"utf-8\") as f:\n",
    "        articles = json.load(f)\n",
    "except FileNotFoundError:\n",
    "    print(f\"Could not find summarized_output.json at: {SUMMARY_PATH}\")\n",
    "    articles = []\n",
    "\n",
    "# Format tweet\n",
    "\n",
    "def format_tweet(article, variant=\"v1_summary\", include_hashtags=True):\n",
    "    title = article.get(\"title\", \"\")\n",
    "    summary = article.get(variant, article.get(\"summary\", \"\"))\n",
    "    url = article.get(\"url\", \"\")\n",
    "\n",
    "    # Extract Claude-suggested hashtags and merge with defaults\n",
    "    dynamic = article.get(\"hashtags\", \"\")\n",
    "    all_tags = DEFAULT_HASHTAGS.copy()\n",
    "    if dynamic:\n",
    "        dynamic_tags = [tag for tag in dynamic.split() if tag.startswith(\"#\") and tag not in all_tags]\n",
    "        all_tags.extend(dynamic_tags)\n",
    "    hashtags = \" \".join(all_tags) if include_hashtags else \"\"\n",
    "\n",
    "    base = f\"{title}\\n{summary}\\n{url}\"\n",
    "    full_tweet = f\"{base}\\n{hashtags}\".strip()\n",
    "\n",
    "    # Trim if needed\n",
    "    if len(full_tweet) > MAX_TWEET_LENGTH:\n",
    "        allowable = MAX_TWEET_LENGTH - len(hashtags) - len(url) - 3\n",
    "        trimmed_summary = textwrap.shorten(summary, width=allowable, placeholder=\"...\")\n",
    "        full_tweet = f\"{title}\\n{trimmed_summary}\\n{url}\\n{hashtags}\"\n",
    "\n",
    "    return full_tweet.strip()\n",
    "\n",
    "# Preview loop\n",
    "\n",
    "for i, article in enumerate(articles[:3]):\n",
    "    for variant in [\"v1_summary\", \"v2_summary\"]:\n",
    "        tweet = format_tweet(article, variant)\n",
    "        print(f\"--- Tweet {i+1} ({variant}) ---\\n{tweet}\\n\\nCharacters: {len(tweet)}\\n\")\n",
    "\n",
    "# 🚀 Future options:\n",
    "# - Export tweets to .csv/.json\n",
    "# - Add editorial UI in notebook to rate/choose v1 vs v2\n",
    "# - Integrate this with Tweepy or a post scheduler\n"
   ]
  },
  {
   "cell_type": "code",
   "execution_count": null,
   "id": "ae021889-98de-4658-af2e-b80916de4043",
   "metadata": {},
   "outputs": [],
   "source": []
  }
 ],
 "metadata": {
  "kernelspec": {
   "display_name": "Python 3 (ipykernel)",
   "language": "python",
   "name": "python3"
  },
  "language_info": {
   "codemirror_mode": {
    "name": "ipython",
    "version": 3
   },
   "file_extension": ".py",
   "mimetype": "text/x-python",
   "name": "python",
   "nbconvert_exporter": "python",
   "pygments_lexer": "ipython3",
   "version": "3.11.9"
  }
 },
 "nbformat": 4,
 "nbformat_minor": 5
}
